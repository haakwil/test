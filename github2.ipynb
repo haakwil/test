{
 "cells": [
  {
   "cell_type": "code",
   "execution_count": 1,
   "id": "varying-separate",
   "metadata": {},
   "outputs": [
    {
     "name": "stdout",
     "output_type": "stream",
     "text": [
      "Collecting quantstats==0.0.25\n",
      "  Downloading QuantStats-0.0.25.tar.gz (31 kB)\n",
      "Requirement already satisfied: pandas>=0.24.0 in /Users/hakon-wilhelm/opt/miniconda3/lib/python3.8/site-packages (from quantstats==0.0.25) (1.2.2)\n",
      "Requirement already satisfied: numpy>=1.15.0 in /Users/hakon-wilhelm/opt/miniconda3/lib/python3.8/site-packages (from quantstats==0.0.25) (1.19.5)\n",
      "Requirement already satisfied: scipy>=1.2.0 in /Users/hakon-wilhelm/opt/miniconda3/lib/python3.8/site-packages (from quantstats==0.0.25) (1.6.1)\n",
      "Requirement already satisfied: matplotlib>=3.0.0 in /Users/hakon-wilhelm/opt/miniconda3/lib/python3.8/site-packages (from quantstats==0.0.25) (3.3.0)\n",
      "Requirement already satisfied: seaborn>=0.9.0 in /Users/hakon-wilhelm/opt/miniconda3/lib/python3.8/site-packages (from quantstats==0.0.25) (0.11.1)\n",
      "Requirement already satisfied: tabulate>=0.8.0 in /Users/hakon-wilhelm/opt/miniconda3/lib/python3.8/site-packages (from quantstats==0.0.25) (0.8.9)\n",
      "Requirement already satisfied: yfinance>=0.1.44 in /Users/hakon-wilhelm/opt/miniconda3/lib/python3.8/site-packages (from quantstats==0.0.25) (0.1.55)\n",
      "Requirement already satisfied: python-dateutil>=2.1 in /Users/hakon-wilhelm/opt/miniconda3/lib/python3.8/site-packages (from matplotlib>=3.0.0->quantstats==0.0.25) (2.8.1)\n",
      "Requirement already satisfied: cycler>=0.10 in /Users/hakon-wilhelm/opt/miniconda3/lib/python3.8/site-packages (from matplotlib>=3.0.0->quantstats==0.0.25) (0.10.0)\n",
      "Requirement already satisfied: kiwisolver>=1.0.1 in /Users/hakon-wilhelm/opt/miniconda3/lib/python3.8/site-packages (from matplotlib>=3.0.0->quantstats==0.0.25) (1.3.1)\n",
      "Requirement already satisfied: pyparsing!=2.0.4,!=2.1.2,!=2.1.6,>=2.0.3 in /Users/hakon-wilhelm/opt/miniconda3/lib/python3.8/site-packages (from matplotlib>=3.0.0->quantstats==0.0.25) (2.4.7)\n",
      "Requirement already satisfied: pillow>=6.2.0 in /Users/hakon-wilhelm/opt/miniconda3/lib/python3.8/site-packages (from matplotlib>=3.0.0->quantstats==0.0.25) (8.1.0)\n",
      "Requirement already satisfied: six in /Users/hakon-wilhelm/opt/miniconda3/lib/python3.8/site-packages (from cycler>=0.10->matplotlib>=3.0.0->quantstats==0.0.25) (1.15.0)\n",
      "Requirement already satisfied: pytz>=2017.3 in /Users/hakon-wilhelm/opt/miniconda3/lib/python3.8/site-packages (from pandas>=0.24.0->quantstats==0.0.25) (2021.1)\n",
      "Requirement already satisfied: multitasking>=0.0.7 in /Users/hakon-wilhelm/opt/miniconda3/lib/python3.8/site-packages (from yfinance>=0.1.44->quantstats==0.0.25) (0.0.9)\n",
      "Requirement already satisfied: lxml>=4.5.1 in /Users/hakon-wilhelm/opt/miniconda3/lib/python3.8/site-packages (from yfinance>=0.1.44->quantstats==0.0.25) (4.6.2)\n",
      "Requirement already satisfied: requests>=2.20 in /Users/hakon-wilhelm/opt/miniconda3/lib/python3.8/site-packages (from yfinance>=0.1.44->quantstats==0.0.25) (2.25.1)\n",
      "Requirement already satisfied: certifi>=2017.4.17 in /Users/hakon-wilhelm/opt/miniconda3/lib/python3.8/site-packages (from requests>=2.20->yfinance>=0.1.44->quantstats==0.0.25) (2020.12.5)\n",
      "Requirement already satisfied: chardet<5,>=3.0.2 in /Users/hakon-wilhelm/opt/miniconda3/lib/python3.8/site-packages (from requests>=2.20->yfinance>=0.1.44->quantstats==0.0.25) (4.0.0)\n",
      "Requirement already satisfied: urllib3<1.27,>=1.21.1 in /Users/hakon-wilhelm/opt/miniconda3/lib/python3.8/site-packages (from requests>=2.20->yfinance>=0.1.44->quantstats==0.0.25) (1.26.4)\n",
      "Requirement already satisfied: idna<3,>=2.5 in /Users/hakon-wilhelm/opt/miniconda3/lib/python3.8/site-packages (from requests>=2.20->yfinance>=0.1.44->quantstats==0.0.25) (2.10)\n",
      "Building wheels for collected packages: quantstats\n",
      "  Building wheel for quantstats (setup.py) ... \u001b[?25ldone\n",
      "\u001b[?25h  Created wheel for quantstats: filename=QuantStats-0.0.25-py2.py3-none-any.whl size=36679 sha256=622ac05c2a9d0a975db306db691eb2a4534dbe92c17920d061ea09327c0bc5e4\n",
      "  Stored in directory: /Users/hakon-wilhelm/Library/Caches/pip/wheels/e7/f3/4e/0b9a79ae96cfc1e60b2ee8819fe0e9b6848840fa6c45899252\n",
      "Successfully built quantstats\n",
      "Installing collected packages: quantstats\n",
      "  Attempting uninstall: quantstats\n",
      "    Found existing installation: QuantStats 0.0.26\n",
      "    Uninstalling QuantStats-0.0.26:\n",
      "      Successfully uninstalled QuantStats-0.0.26\n",
      "Successfully installed quantstats-0.0.25\n",
      "Note: you may need to restart the kernel to use updated packages.\n"
     ]
    }
   ],
   "source": [
    "pip install quantstats==0.0.25"
   ]
  },
  {
   "cell_type": "code",
   "execution_count": 3,
   "id": "standing-klein",
   "metadata": {},
   "outputs": [],
   "source": [
    "#!/usr/bin/python\n",
    "import warnings\n",
    "import datetime\n",
    "import numpy as np\n",
    "import pandas as pd\n",
    "import pandas_datareader.data as pdr\n",
    "import matplotlib.pyplot as plt\n",
    "\n",
    "warnings.simplefilter('ignore', FutureWarning)"
   ]
  },
  {
   "cell_type": "code",
   "execution_count": 5,
   "id": "animal-receptor",
   "metadata": {},
   "outputs": [],
   "source": [
    "# fetch multiple asset data\n",
    "def getMultiAssetData(ticketList, date_from, date_to):\n",
    "    def getData(ticker):\n",
    "        data = pdr.DataReader(ticker, 'yahoo', date_from, date_to)\n",
    "        return data\n",
    "    datas = map(getData, tickerList)\n",
    "    return pd.concat(datas, keys=tickerList, names=['Ticker', 'Date'])"
   ]
  },
  {
   "cell_type": "code",
   "execution_count": 9,
   "id": "close-mountain",
   "metadata": {},
   "outputs": [],
   "source": [
    "date_from = datetime.date(2017, 1, 1)\n",
    "date_to = datetime.date(2020, 12, 31)\n",
    "tickerList = [\"AGBA\",\"ALA\",\"ALUS\",\"AMHC\",\"ANDA\",\"APXT\",\"BRLI\",\"BRPA\",\"CCAC\",\"CCX\",\"CGRO\",\"CHAQ\",\"CHPM\",\"CIIC\",\"CRSA\",\"DFNS\",\"DFPH\",\"ESSC\",\"EXPC\",\"FSRV\",\"FUSE\",\"GIK\",\"GIX\",\"GLEO\",\"GNRS\",\"GRNV\",\"GSAH\",\"GXGX\",\"HEC\",\"IPV\",\"JIH\",\"JWS\",\"LACQ\",\"LATN\",\"LIVK\",\"LOAC\",\"MCMJ\",\"NBAC\",\"NPA\",\"ROCH\",\"RPLA\",\"SCPE\",\"SCVX\",\"SFTW\",\"SOAC\",\"SRAC\",\"SSPK\",\"TDAC\",\"THBR\",\"THCA\",\"THCB\",\"TREB\",\"WPF\",\"ZGYH\"]\n",
    "multiData = getMultiAssetData(tickerList, date_from, date_to)\n",
    "df = multiData.copy()"
   ]
  },
  {
   "cell_type": "code",
   "execution_count": 8,
   "id": "greek-system",
   "metadata": {},
   "outputs": [
    {
     "ename": "NameError",
     "evalue": "name 'qs' is not defined",
     "output_type": "error",
     "traceback": [
      "\u001b[0;31m---------------------------------------------------------------------------\u001b[0m",
      "\u001b[0;31mNameError\u001b[0m                                 Traceback (most recent call last)",
      "\u001b[0;32m<ipython-input-8-350abb6328b7>\u001b[0m in \u001b[0;36m<module>\u001b[0;34m\u001b[0m\n\u001b[0;32m----> 1\u001b[0;31m \u001b[0mqs\u001b[0m\u001b[0;34m.\u001b[0m\u001b[0mreports\u001b[0m\u001b[0;34m.\u001b[0m\u001b[0mfull\u001b[0m\u001b[0;34m(\u001b[0m\u001b[0mtickerList\u001b[0m\u001b[0;34m)\u001b[0m\u001b[0;34m\u001b[0m\u001b[0;34m\u001b[0m\u001b[0m\n\u001b[0m",
      "\u001b[0;31mNameError\u001b[0m: name 'qs' is not defined"
     ]
    }
   ],
   "source": []
  },
  {
   "cell_type": "code",
   "execution_count": 15,
   "id": "least-letter",
   "metadata": {},
   "outputs": [],
   "source": [
    "multiData[\"pct\"] = multiData[\"Close\"].pct_change()"
   ]
  },
  {
   "cell_type": "code",
   "execution_count": 16,
   "id": "honest-system",
   "metadata": {},
   "outputs": [
    {
     "data": {
      "text/html": [
       "<div>\n",
       "<style scoped>\n",
       "    .dataframe tbody tr th:only-of-type {\n",
       "        vertical-align: middle;\n",
       "    }\n",
       "\n",
       "    .dataframe tbody tr th {\n",
       "        vertical-align: top;\n",
       "    }\n",
       "\n",
       "    .dataframe thead th {\n",
       "        text-align: right;\n",
       "    }\n",
       "</style>\n",
       "<table border=\"1\" class=\"dataframe\">\n",
       "  <thead>\n",
       "    <tr style=\"text-align: right;\">\n",
       "      <th></th>\n",
       "      <th></th>\n",
       "      <th>High</th>\n",
       "      <th>Low</th>\n",
       "      <th>Open</th>\n",
       "      <th>Close</th>\n",
       "      <th>Volume</th>\n",
       "      <th>Adj Close</th>\n",
       "      <th>pct</th>\n",
       "    </tr>\n",
       "    <tr>\n",
       "      <th>Ticker</th>\n",
       "      <th>Date</th>\n",
       "      <th></th>\n",
       "      <th></th>\n",
       "      <th></th>\n",
       "      <th></th>\n",
       "      <th></th>\n",
       "      <th></th>\n",
       "      <th></th>\n",
       "    </tr>\n",
       "  </thead>\n",
       "  <tbody>\n",
       "    <tr>\n",
       "      <th rowspan=\"5\" valign=\"top\">AGBA</th>\n",
       "      <th>2019-07-31</th>\n",
       "      <td>9.900</td>\n",
       "      <td>9.900</td>\n",
       "      <td>9.900</td>\n",
       "      <td>9.900</td>\n",
       "      <td>400.0</td>\n",
       "      <td>9.900</td>\n",
       "      <td>NaN</td>\n",
       "    </tr>\n",
       "    <tr>\n",
       "      <th>2019-08-01</th>\n",
       "      <td>9.900</td>\n",
       "      <td>9.900</td>\n",
       "      <td>9.900</td>\n",
       "      <td>9.900</td>\n",
       "      <td>0.0</td>\n",
       "      <td>9.900</td>\n",
       "      <td>0.000000</td>\n",
       "    </tr>\n",
       "    <tr>\n",
       "      <th>2019-08-02</th>\n",
       "      <td>10.000</td>\n",
       "      <td>10.000</td>\n",
       "      <td>10.000</td>\n",
       "      <td>10.000</td>\n",
       "      <td>100.0</td>\n",
       "      <td>10.000</td>\n",
       "      <td>0.010101</td>\n",
       "    </tr>\n",
       "    <tr>\n",
       "      <th>2019-08-05</th>\n",
       "      <td>10.000</td>\n",
       "      <td>10.000</td>\n",
       "      <td>10.000</td>\n",
       "      <td>10.000</td>\n",
       "      <td>200.0</td>\n",
       "      <td>10.000</td>\n",
       "      <td>0.000000</td>\n",
       "    </tr>\n",
       "    <tr>\n",
       "      <th>2019-08-06</th>\n",
       "      <td>10.000</td>\n",
       "      <td>10.000</td>\n",
       "      <td>10.000</td>\n",
       "      <td>10.000</td>\n",
       "      <td>0.0</td>\n",
       "      <td>10.000</td>\n",
       "      <td>0.000000</td>\n",
       "    </tr>\n",
       "    <tr>\n",
       "      <th>...</th>\n",
       "      <th>...</th>\n",
       "      <td>...</td>\n",
       "      <td>...</td>\n",
       "      <td>...</td>\n",
       "      <td>...</td>\n",
       "      <td>...</td>\n",
       "      <td>...</td>\n",
       "      <td>...</td>\n",
       "    </tr>\n",
       "    <tr>\n",
       "      <th rowspan=\"5\" valign=\"top\">ZGYH</th>\n",
       "      <th>2020-12-24</th>\n",
       "      <td>10.050</td>\n",
       "      <td>10.050</td>\n",
       "      <td>10.050</td>\n",
       "      <td>10.050</td>\n",
       "      <td>0.0</td>\n",
       "      <td>10.050</td>\n",
       "      <td>0.000000</td>\n",
       "    </tr>\n",
       "    <tr>\n",
       "      <th>2020-12-28</th>\n",
       "      <td>10.037</td>\n",
       "      <td>10.037</td>\n",
       "      <td>10.037</td>\n",
       "      <td>10.037</td>\n",
       "      <td>300.0</td>\n",
       "      <td>10.037</td>\n",
       "      <td>-0.001294</td>\n",
       "    </tr>\n",
       "    <tr>\n",
       "      <th>2020-12-29</th>\n",
       "      <td>10.039</td>\n",
       "      <td>10.020</td>\n",
       "      <td>10.039</td>\n",
       "      <td>10.020</td>\n",
       "      <td>300.0</td>\n",
       "      <td>10.020</td>\n",
       "      <td>-0.001694</td>\n",
       "    </tr>\n",
       "    <tr>\n",
       "      <th>2020-12-30</th>\n",
       "      <td>10.020</td>\n",
       "      <td>10.020</td>\n",
       "      <td>10.020</td>\n",
       "      <td>10.020</td>\n",
       "      <td>0.0</td>\n",
       "      <td>10.020</td>\n",
       "      <td>0.000000</td>\n",
       "    </tr>\n",
       "    <tr>\n",
       "      <th>2020-12-31</th>\n",
       "      <td>9.960</td>\n",
       "      <td>9.930</td>\n",
       "      <td>9.960</td>\n",
       "      <td>9.940</td>\n",
       "      <td>4500.0</td>\n",
       "      <td>9.940</td>\n",
       "      <td>-0.007984</td>\n",
       "    </tr>\n",
       "  </tbody>\n",
       "</table>\n",
       "<p>14756 rows × 7 columns</p>\n",
       "</div>"
      ],
      "text/plain": [
       "                     High     Low    Open   Close  Volume  Adj Close       pct\n",
       "Ticker Date                                                                   \n",
       "AGBA   2019-07-31   9.900   9.900   9.900   9.900   400.0      9.900       NaN\n",
       "       2019-08-01   9.900   9.900   9.900   9.900     0.0      9.900  0.000000\n",
       "       2019-08-02  10.000  10.000  10.000  10.000   100.0     10.000  0.010101\n",
       "       2019-08-05  10.000  10.000  10.000  10.000   200.0     10.000  0.000000\n",
       "       2019-08-06  10.000  10.000  10.000  10.000     0.0     10.000  0.000000\n",
       "...                   ...     ...     ...     ...     ...        ...       ...\n",
       "ZGYH   2020-12-24  10.050  10.050  10.050  10.050     0.0     10.050  0.000000\n",
       "       2020-12-28  10.037  10.037  10.037  10.037   300.0     10.037 -0.001294\n",
       "       2020-12-29  10.039  10.020  10.039  10.020   300.0     10.020 -0.001694\n",
       "       2020-12-30  10.020  10.020  10.020  10.020     0.0     10.020  0.000000\n",
       "       2020-12-31   9.960   9.930   9.960   9.940  4500.0      9.940 -0.007984\n",
       "\n",
       "[14756 rows x 7 columns]"
      ]
     },
     "execution_count": 16,
     "metadata": {},
     "output_type": "execute_result"
    }
   ],
   "source": [
    "multiData"
   ]
  },
  {
   "cell_type": "code",
   "execution_count": 18,
   "id": "amber-reason",
   "metadata": {},
   "outputs": [
    {
     "data": {
      "text/plain": [
       "Ticker  Date      \n",
       "AGBA    2019-07-31         NaN\n",
       "        2019-08-01    0.000000\n",
       "        2019-08-02    0.010101\n",
       "        2019-08-05    0.000000\n",
       "        2019-08-06    0.000000\n",
       "                        ...   \n",
       "ZGYH    2020-12-24    0.000000\n",
       "        2020-12-28   -0.001294\n",
       "        2020-12-29   -0.001694\n",
       "        2020-12-30    0.000000\n",
       "        2020-12-31   -0.007984\n",
       "Name: pct, Length: 14756, dtype: float64"
      ]
     },
     "execution_count": 18,
     "metadata": {},
     "output_type": "execute_result"
    }
   ],
   "source": [
    "multiData[\"pct\"]"
   ]
  },
  {
   "cell_type": "code",
   "execution_count": 23,
   "id": "northern-internship",
   "metadata": {},
   "outputs": [],
   "source": [
    "%matplotlib inline\n",
    "import quantstats as qs"
   ]
  },
  {
   "cell_type": "code",
   "execution_count": 24,
   "id": "productive-accuracy",
   "metadata": {},
   "outputs": [
    {
     "ename": "TypeError",
     "evalue": "unsupported operand type(s) for -: 'tuple' and 'tuple'",
     "output_type": "error",
     "traceback": [
      "\u001b[0;31m---------------------------------------------------------------------------\u001b[0m",
      "\u001b[0;31mTypeError\u001b[0m                                 Traceback (most recent call last)",
      "\u001b[0;32m<ipython-input-24-dcfe43324fc0>\u001b[0m in \u001b[0;36m<module>\u001b[0;34m\u001b[0m\n\u001b[0;32m----> 1\u001b[0;31m \u001b[0mqs\u001b[0m\u001b[0;34m.\u001b[0m\u001b[0mreports\u001b[0m\u001b[0;34m.\u001b[0m\u001b[0mfull\u001b[0m\u001b[0;34m(\u001b[0m\u001b[0mmultiData\u001b[0m\u001b[0;34m[\u001b[0m\u001b[0;34m\"pct\"\u001b[0m\u001b[0;34m]\u001b[0m\u001b[0;34m)\u001b[0m\u001b[0;34m\u001b[0m\u001b[0;34m\u001b[0m\u001b[0m\n\u001b[0m",
      "\u001b[0;32m~/opt/miniconda3/lib/python3.8/site-packages/quantstats/reports.py\u001b[0m in \u001b[0;36mfull\u001b[0;34m(returns, benchmark, rf, grayscale, figsize, display, compounded)\u001b[0m\n\u001b[1;32m    212\u001b[0m \u001b[0;34m\u001b[0m\u001b[0m\n\u001b[1;32m    213\u001b[0m     \u001b[0mdd\u001b[0m \u001b[0;34m=\u001b[0m \u001b[0m_stats\u001b[0m\u001b[0;34m.\u001b[0m\u001b[0mto_drawdown_series\u001b[0m\u001b[0;34m(\u001b[0m\u001b[0mreturns\u001b[0m\u001b[0;34m)\u001b[0m\u001b[0;34m\u001b[0m\u001b[0;34m\u001b[0m\u001b[0m\n\u001b[0;32m--> 214\u001b[0;31m     dd_info = _stats.drawdown_details(dd).sort_values(\n\u001b[0m\u001b[1;32m    215\u001b[0m         by='max drawdown', ascending=True)[:5]\n\u001b[1;32m    216\u001b[0m \u001b[0;34m\u001b[0m\u001b[0m\n",
      "\u001b[0;32m~/opt/miniconda3/lib/python3.8/site-packages/quantstats/stats.py\u001b[0m in \u001b[0;36mdrawdown_details\u001b[0;34m(drawdown)\u001b[0m\n\u001b[1;32m    558\u001b[0m         \u001b[0;32mreturn\u001b[0m \u001b[0m_pd\u001b[0m\u001b[0;34m.\u001b[0m\u001b[0mconcat\u001b[0m\u001b[0;34m(\u001b[0m\u001b[0m_dfs\u001b[0m\u001b[0;34m,\u001b[0m \u001b[0maxis\u001b[0m\u001b[0;34m=\u001b[0m\u001b[0;36m1\u001b[0m\u001b[0;34m)\u001b[0m\u001b[0;34m\u001b[0m\u001b[0;34m\u001b[0m\u001b[0m\n\u001b[1;32m    559\u001b[0m \u001b[0;34m\u001b[0m\u001b[0m\n\u001b[0;32m--> 560\u001b[0;31m     \u001b[0;32mreturn\u001b[0m \u001b[0m_drawdown_details\u001b[0m\u001b[0;34m(\u001b[0m\u001b[0mdrawdown\u001b[0m\u001b[0;34m)\u001b[0m\u001b[0;34m\u001b[0m\u001b[0;34m\u001b[0m\u001b[0m\n\u001b[0m\u001b[1;32m    561\u001b[0m \u001b[0;34m\u001b[0m\u001b[0m\n\u001b[1;32m    562\u001b[0m \u001b[0;34m\u001b[0m\u001b[0m\n",
      "\u001b[0;32m~/opt/miniconda3/lib/python3.8/site-packages/quantstats/stats.py\u001b[0m in \u001b[0;36m_drawdown_details\u001b[0;34m(drawdown)\u001b[0m\n\u001b[1;32m    535\u001b[0m             \u001b[0mclean_dd\u001b[0m \u001b[0;34m=\u001b[0m \u001b[0;34m-\u001b[0m\u001b[0mremove_outliers\u001b[0m\u001b[0;34m(\u001b[0m\u001b[0;34m-\u001b[0m\u001b[0mdd\u001b[0m\u001b[0;34m,\u001b[0m \u001b[0;36m.99\u001b[0m\u001b[0;34m)\u001b[0m\u001b[0;34m\u001b[0m\u001b[0;34m\u001b[0m\u001b[0m\n\u001b[1;32m    536\u001b[0m             data.append((starts[i], dd.idxmin(), ends[i],\n\u001b[0;32m--> 537\u001b[0;31m                          \u001b[0;34m(\u001b[0m\u001b[0mends\u001b[0m\u001b[0;34m[\u001b[0m\u001b[0mi\u001b[0m\u001b[0;34m]\u001b[0m \u001b[0;34m-\u001b[0m \u001b[0mstarts\u001b[0m\u001b[0;34m[\u001b[0m\u001b[0mi\u001b[0m\u001b[0;34m]\u001b[0m\u001b[0;34m)\u001b[0m\u001b[0;34m.\u001b[0m\u001b[0mdays\u001b[0m\u001b[0;34m,\u001b[0m\u001b[0;34m\u001b[0m\u001b[0;34m\u001b[0m\u001b[0m\n\u001b[0m\u001b[1;32m    538\u001b[0m                          dd.min() * 100, clean_dd.min() * 100))\n\u001b[1;32m    539\u001b[0m \u001b[0;34m\u001b[0m\u001b[0m\n",
      "\u001b[0;31mTypeError\u001b[0m: unsupported operand type(s) for -: 'tuple' and 'tuple'"
     ]
    }
   ],
   "source": [
    "qs.reports.full(multiData[\"pct\"])"
   ]
  }
 ],
 "metadata": {
  "kernelspec": {
   "display_name": "Python 3",
   "language": "python",
   "name": "python3"
  },
  "language_info": {
   "codemirror_mode": {
    "name": "ipython",
    "version": 3
   },
   "file_extension": ".py",
   "mimetype": "text/x-python",
   "name": "python",
   "nbconvert_exporter": "python",
   "pygments_lexer": "ipython3",
   "version": "3.8.5"
  }
 },
 "nbformat": 4,
 "nbformat_minor": 5
}
